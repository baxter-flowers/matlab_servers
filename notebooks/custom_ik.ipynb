{
 "metadata": {
  "name": ""
 },
 "nbformat": 3,
 "nbformat_minor": 0,
 "worksheets": [
  {
   "cells": [
    {
     "cell_type": "code",
     "collapsed": false,
     "input": [
      "import rospy\n",
      "from baxter_commander import ArmCommander\n",
      "from baxter_commander.persistence import *\n",
      "from transformations import distance"
     ],
     "language": "python",
     "metadata": {},
     "outputs": [],
     "prompt_number": 29
    },
    {
     "cell_type": "code",
     "collapsed": false,
     "input": [
      "rospy.init_node('custom_ik')"
     ],
     "language": "python",
     "metadata": {},
     "outputs": [],
     "prompt_number": 2
    },
    {
     "cell_type": "code",
     "collapsed": false,
     "input": [
      "arm = ArmCommander('right')"
     ],
     "language": "python",
     "metadata": {},
     "outputs": [
      {
       "output_type": "stream",
       "stream": "stdout",
       "text": [
        "[INFO] [WallTime: 1452097103.629247] ArmCommander(right): Waiting for action server /robot/limb/right/follow_joint_trajectory...\n"
       ]
      }
     ],
     "prompt_number": 3
    },
    {
     "cell_type": "markdown",
     "metadata": {},
     "source": [
      "# First record the 7 joint angles of 10 points"
     ]
    },
    {
     "cell_type": "code",
     "collapsed": false,
     "input": [
      "num_points = 10\n",
      "points = []"
     ],
     "language": "python",
     "metadata": {},
     "outputs": [],
     "prompt_number": 23
    },
    {
     "cell_type": "code",
     "collapsed": false,
     "input": [
      "for point in range(num_points):\n",
      "    raw_input('Press <Enter> to record point {}/{}'.format(point+1, num_points))\n",
      "    joints = statetodict(arm.get_current_state())\n",
      "    endpoint = arm.endpoint_pose()\n",
      "    joints['endpoint'] = endpoint\n",
      "    points.append(joints)"
     ],
     "language": "python",
     "metadata": {},
     "outputs": [
      {
       "name": "stdout",
       "output_type": "stream",
       "stream": "stdout",
       "text": [
        "Press <Enter> to record point 1/10\n"
       ]
      },
      {
       "name": "stdout",
       "output_type": "stream",
       "stream": "stdout",
       "text": [
        "Press <Enter> to record point 2/10\n"
       ]
      },
      {
       "name": "stdout",
       "output_type": "stream",
       "stream": "stdout",
       "text": [
        "Press <Enter> to record point 3/10\n"
       ]
      },
      {
       "name": "stdout",
       "output_type": "stream",
       "stream": "stdout",
       "text": [
        "Press <Enter> to record point 4/10\n"
       ]
      },
      {
       "name": "stdout",
       "output_type": "stream",
       "stream": "stdout",
       "text": [
        "Press <Enter> to record point 5/10\n"
       ]
      },
      {
       "name": "stdout",
       "output_type": "stream",
       "stream": "stdout",
       "text": [
        "Press <Enter> to record point 6/10\n"
       ]
      },
      {
       "name": "stdout",
       "output_type": "stream",
       "stream": "stdout",
       "text": [
        "Press <Enter> to record point 7/10\n"
       ]
      },
      {
       "name": "stdout",
       "output_type": "stream",
       "stream": "stdout",
       "text": [
        "Press <Enter> to record point 8/10\n"
       ]
      },
      {
       "name": "stdout",
       "output_type": "stream",
       "stream": "stdout",
       "text": [
        "Press <Enter> to record point 9/10\n"
       ]
      },
      {
       "name": "stdout",
       "output_type": "stream",
       "stream": "stdout",
       "text": [
        "Press <Enter> to record point 10/10\n"
       ]
      }
     ],
     "prompt_number": 24
    },
    {
     "cell_type": "code",
     "collapsed": false,
     "input": [
      "print \"Here is the first point:\\n\", points[0]"
     ],
     "language": "python",
     "metadata": {},
     "outputs": [
      {
       "output_type": "stream",
       "stream": "stdout",
       "text": [
        "Here is the first point:\n",
        "{'position': [0.13844176594848634, -0.35895150395507813, -0.31101460438842776, 0.749349614025879, 0.3746748070129395, 1.087208882171631, -0.7846311721069337], 'endpoint': [[0.6512423727428432, -0.8226731734110431, 0.03872130879607086], [0.05908056572405174, 0.996034406458861, -0.02510866087659217, 0.061599537764944395]], 'name': ['right_s0', 'right_s1', 'right_e0', 'right_e1', 'right_w0', 'right_w1', 'right_w2']}\n"
       ]
      }
     ],
     "prompt_number": 25
    },
    {
     "cell_type": "markdown",
     "metadata": {},
     "source": [
      "# Call the actual IK algorithm here"
     ]
    },
    {
     "cell_type": "code",
     "collapsed": false,
     "input": [
      "# Fill in the target computed by the custom IK:\n",
      "target = points[0]"
     ],
     "language": "python",
     "metadata": {},
     "outputs": [],
     "prompt_number": 26
    },
    {
     "cell_type": "markdown",
     "metadata": {},
     "source": [
      "# Now go to this joint-space target"
     ]
    },
    {
     "cell_type": "code",
     "collapsed": false,
     "input": [
      "display_only = True   # Set to False if you want to execute the motion on the real robot"
     ],
     "language": "python",
     "metadata": {},
     "outputs": [],
     "prompt_number": 27
    },
    {
     "cell_type": "code",
     "collapsed": false,
     "input": [
      "arm.move_to_controlled(dicttostate(target), display_only=display_only)"
     ],
     "language": "python",
     "metadata": {},
     "outputs": [
      {
       "metadata": {},
       "output_type": "pyout",
       "prompt_number": 28,
       "text": [
        "False"
       ]
      }
     ],
     "prompt_number": 28
    },
    {
     "cell_type": "markdown",
     "metadata": {},
     "source": [
      "# Wanna test the precision?"
     ]
    },
    {
     "cell_type": "code",
     "collapsed": false,
     "input": [
      "current_pose = arm.endpoint_pose()\n",
      "precision = distance(target['endpoint'], current_pose)"
     ],
     "language": "python",
     "metadata": {},
     "outputs": [],
     "prompt_number": 36
    },
    {
     "cell_type": "code",
     "collapsed": false,
     "input": [
      "print \"Precision: {} meters\".format(precision)"
     ],
     "language": "python",
     "metadata": {},
     "outputs": [
      {
       "output_type": "stream",
       "stream": "stdout",
       "text": [
        "Precision: 0.0107410641686 meters\n"
       ]
      }
     ],
     "prompt_number": 37
    },
    {
     "cell_type": "code",
     "collapsed": false,
     "input": [
      "# If it's not precise enough, go back to step 2..."
     ],
     "language": "python",
     "metadata": {},
     "outputs": []
    }
   ],
   "metadata": {}
  }
 ]
}